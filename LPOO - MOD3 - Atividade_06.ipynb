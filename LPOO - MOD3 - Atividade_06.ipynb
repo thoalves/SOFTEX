{
  "nbformat": 4,
  "nbformat_minor": 0,
  "metadata": {
    "colab": {
      "name": "TULIO ALVES - MOD 3 - Atividade 06",
      "provenance": [],
      "authorship_tag": "ABX9TyMAHEdpRU2DkvrdtuwqMjZe",
      "include_colab_link": true
    },
    "kernelspec": {
      "name": "python3",
      "display_name": "Python 3"
    },
    "language_info": {
      "name": "python"
    }
  },
  "cells": [
    {
      "cell_type": "markdown",
      "metadata": {
        "id": "view-in-github",
        "colab_type": "text"
      },
      "source": [
        "<a href=\"https://colab.research.google.com/github/thoalves/SOFTEX/blob/main/TULIO_ALVES_MOD_3_Atividade_06.ipynb\" target=\"_parent\"><img src=\"https://colab.research.google.com/assets/colab-badge.svg\" alt=\"Open In Colab\"/></a>"
      ]
    },
    {
      "cell_type": "code",
      "execution_count": 9,
      "metadata": {
        "colab": {
          "base_uri": "https://localhost:8080/"
        },
        "id": "gB4IanItDVeo",
        "outputId": "d9580d58-9d1f-4faf-b9ad-1ca16038454f"
      },
      "outputs": [
        {
          "output_type": "stream",
          "name": "stdout",
          "text": [
            "Nome completo:tu\n",
            "Ano de nascimento:oi\n",
            "Dados incorretos.\n",
            "Nome completo:oi\n",
            "Ano de nascimento:lo\n",
            "Dados incorretos.\n",
            "Nome completo:ogo\n",
            "Ano de nascimento:mgbgk\n",
            "Dados incorretos.\n",
            "Nome completo:tulio\n",
            "Ano de nascimento:1990\n",
            "Em 2022  tulio  completará  32  ano(s)\n"
          ]
        }
      ],
      "source": [
        "#Desenvolva um programa que recebe do usuário nome completo e ano de nascimento que seja entre 1922 e 2021. A partir dessas informações, o sistema mostrará o nome do usuário e a idade que completou, ou completará, no ano atual (2022).\n",
        "#Caso o usuário não digite um número ou apareça um inválido no campo do ano, o sistema informará o erro e continuará perguntando até que um valor correto seja preenchido.\n",
        "\n",
        "status='v'\n",
        "\n",
        "while status=='v':\n",
        "  try:\n",
        "    nome=input(\"Nome completo:\")\n",
        "    ano=int(input(\"Ano de nascimento:\"))\n",
        "    print(\"Em 2022 \",nome,\" completará \",2022-ano,\" ano(s)\")\n",
        "    status='f'\n",
        "  except: \n",
        "    print(\"Dados incorretos.\")\n",
        "    \n",
        "\n",
        "\n",
        "\n"
      ]
    }
  ]
}
