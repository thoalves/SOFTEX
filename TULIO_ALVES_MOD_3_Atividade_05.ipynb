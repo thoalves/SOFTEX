{
  "nbformat": 4,
  "nbformat_minor": 0,
  "metadata": {
    "colab": {
      "name": "TULIO ALVES - MOD 3 - Atividade 05",
      "provenance": [],
      "authorship_tag": "ABX9TyMQA3Q5geC806F3IKEOLlBR",
      "include_colab_link": true
    },
    "kernelspec": {
      "name": "python3",
      "display_name": "Python 3"
    },
    "language_info": {
      "name": "python"
    }
  },
  "cells": [
    {
      "cell_type": "markdown",
      "metadata": {
        "id": "view-in-github",
        "colab_type": "text"
      },
      "source": [
        "<a href=\"https://colab.research.google.com/github/thoalves/SOFTEX/blob/main/TULIO_ALVES_MOD_3_Atividade_05.ipynb\" target=\"_parent\"><img src=\"https://colab.research.google.com/assets/colab-badge.svg\" alt=\"Open In Colab\"/></a>"
      ]
    },
    {
      "cell_type": "code",
      "execution_count": 4,
      "metadata": {
        "colab": {
          "base_uri": "https://localhost:8080/"
        },
        "id": "DpbKacH_4SH1",
        "outputId": "124f9cc9-43a9-4685-dfc1-0509859ddc04"
      },
      "outputs": [
        {
          "name": "stdout",
          "output_type": "stream",
          "text": [
            "Escreva o numero correspondente à operação, sendo: 1-Soma; 2-Subtração; 3-Multiplicação; 4-Divisão; 0-SAIR:1\n",
            "Escreva o primeiro numero:2\n",
            "Escreva o segundo numero:4\n",
            "O resultado da operação é  6\n",
            "Escreva o numero correspondente à operação, sendo: 1-Soma; 2-Subtração; 3-Multiplicação; 4-Divisão; 0-SAIR:2\n",
            "Escreva o primeiro numero:8\n",
            "Escreva o segundo numero:2\n",
            "O resultado da operação é  6\n",
            "Escreva o numero correspondente à operação, sendo: 1-Soma; 2-Subtração; 3-Multiplicação; 4-Divisão; 0-SAIR:3\n",
            "Escreva o primeiro numero:2\n",
            "Escreva o segundo numero:3\n",
            "O resultado da operação é  6\n",
            "Escreva o numero correspondente à operação, sendo: 1-Soma; 2-Subtração; 3-Multiplicação; 4-Divisão; 0-SAIR:4\n",
            "Escreva o primeiro numero:10\n",
            "Escreva o segundo numero:2\n",
            "O resultado da operação é  5.0\n",
            "Escreva o numero correspondente à operação, sendo: 1-Soma; 2-Subtração; 3-Multiplicação; 4-Divisão; 0-SAIR:0\n"
          ]
        }
      ],
      "source": [
        "#ENTRADA DOS DADOS\n",
        "\n",
        "#DEFININDO FUNÇÃO CALCULADORA\n",
        "def calculadora(num1, num2, ope):\n",
        "  if ope==1:\n",
        "    resultado = num1+num2\n",
        "  if ope==2:\n",
        "    resultado = num1 - num2\n",
        "  if ope==3:\n",
        "    resultado = num1*num2\n",
        "  if ope==4:      \n",
        "    resultado = num1/num2\n",
        "  return resultado\n",
        "\n",
        "#INICIO\n",
        "operacao = int(input(\"Escreva o numero correspondente à operação, sendo: 1-Soma; 2-Subtração; 3-Multiplicação; 4-Divisão; 0-SAIR:\"))\n",
        "while operacao not in range (0,5):\n",
        "  print(\"Essa opção não existe\")\n",
        "  operacao = int(input(\"Escreva o numero correspondente à operação, sendo: 1-Soma; 2-Subtração; 3-Multiplicação; 4-Divisão; 0-SAIR:\"))\n",
        "\n",
        "while operacao != 0:\n",
        "  a=int(input(\"Escreva o primeiro numero:\"))\n",
        "  b=int(input(\"Escreva o segundo numero:\"))\n",
        "  print(\"O resultado da operação é \",calculadora(a,b,operacao))\n",
        "  operacao = int(input(\"Escreva o numero correspondente à operação, sendo: 1-Soma; 2-Subtração; 3-Multiplicação; 4-Divisão; 0-SAIR:\"))\n",
        "\n",
      ]
    },
    {
      "cell_type": "code",
      "source": [
        ""
      ],
      "metadata": {
        "id": "dJMjyVwS44sD"
      },
      "execution_count": null,
      "outputs": []
    }
  ]
}
