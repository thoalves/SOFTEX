{
  "nbformat": 4,
  "nbformat_minor": 0,
  "metadata": {
    "colab": {
      "name": "TULIO ALVES - MOD 3 - Atividade 04",
      "provenance": [],
      "authorship_tag": "ABX9TyMkjsAjF3naatlGPf9YQbmd",
      "include_colab_link": true
    },
    "kernelspec": {
      "name": "python3",
      "display_name": "Python 3"
    },
    "language_info": {
      "name": "python"
    }
  },
  "cells": [
    {
      "cell_type": "markdown",
      "metadata": {
        "id": "view-in-github",
        "colab_type": "text"
      },
      "source": [
        "<a href=\"https://colab.research.google.com/github/thoalves/SOFTEX/blob/main/TULIO_ALVES_MOD_3_Atividade_04.ipynb\" target=\"_parent\"><img src=\"https://colab.research.google.com/assets/colab-badge.svg\" alt=\"Open In Colab\"/></a>"
      ]
    },
    {
      "cell_type": "code",
      "execution_count": 14,
      "metadata": {
        "colab": {
          "base_uri": "https://localhost:8080/"
        },
        "id": "5uOghS2_x2ka",
        "outputId": "911d7785-9a57-4b7c-c946-f3853d878efd"
      },
      "outputs": [
        {
          "output_type": "stream",
          "name": "stdout",
          "text": [
            "Escreva o primeiro numero:\n",
            "2\n",
            "Escreva o segundo numero:\n",
            "4\n",
            "Escreva o numero correspondente à operação, sendo: 1-Soma; 2-Subtração; 3-Multiplicação; 4-Divisão:\n",
            "1\n",
            "O resultado da operação é  6\n"
          ]
        }
      ],
      "source": [
        "#ENTRADA DOS DADOS\n",
        "print(\"Escreva o primeiro numero:\")\n",
        "a = int(input())\n",
        "print(\"Escreva o segundo numero:\")\n",
        "b = int(input())\n",
        "print(\"Escreva o numero correspondente à operação, sendo: 1-Soma; 2-Subtração; 3-Multiplicação; 4-Divisão:\")\n",
        "c= int(input())\n",
        "\n",
        "#VERIFICANDO TIPO DA VARIAVEL\n",
        "#print(type(a))\n",
        "#print(type(b))\n",
        "#print(type(c))\n",
        "\n",
        "#DEFININDO FUNÇÃO CALCULADORA\n",
        "def calculadora(num1, num2, ope):\n",
        "  if ope==1:\n",
        "    resultado = num1+num2\n",
        "  if ope==2:\n",
        "    resultado = num1 - num2\n",
        "  if ope==3:\n",
        "    resultado = num1*num2\n",
        "  if ope==4:      \n",
        "    resultado = num1/num2\n",
        "  return resultado\n",
        "\n",
        "#EXCEÇÃO PARA OPERADOR DIFERENTE DE 1-4\n",
        "if (c not in range(1,5)):\n",
        "  print(\"Operação inválida. RESULTADO = 0\\n\")\n",
        "\n",
        "#APLICAÇÃO DA FUNÇÃO\n",
        "else:\n",
        "  print(\"O resultado da operação é \",calculadora(a,b,c))\n",
        "\n",
        "\n",
        "  "
      ]
    }
  ]
}