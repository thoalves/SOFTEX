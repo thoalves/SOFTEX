{
  "nbformat": 4,
  "nbformat_minor": 0,
  "metadata": {
    "colab": {
      "name": "TULIO ALVES - MOD 3 - Atividade 08",
      "provenance": [],
      "authorship_tag": "ABX9TyNbPKOJI9au0SdHpVl55nnn",
      "include_colab_link": true
    },
    "kernelspec": {
      "name": "python3",
      "display_name": "Python 3"
    },
    "language_info": {
      "name": "python"
    }
  },
  "cells": [
    {
      "cell_type": "markdown",
      "metadata": {
        "id": "view-in-github",
        "colab_type": "text"
      },
      "source": [
        "<a href=\"https://colab.research.google.com/github/thoalves/SOFTEX/blob/main/TULIO_ALVES_MOD_3_Atividade_08.ipynb\" target=\"_parent\"><img src=\"https://colab.research.google.com/assets/colab-badge.svg\" alt=\"Open In Colab\"/></a>"
      ]
    },
    {
      "cell_type": "code",
      "execution_count": null,
      "metadata": {
        "colab": {
          "base_uri": "https://localhost:8080/"
        },
        "id": "8huUrJCGnwE7",
        "outputId": "f3c03372-969a-46d7-98e0-0b12d38dff09"
      },
      "outputs": [
        {
          "output_type": "stream",
          "name": "stdout",
          "text": [
            "     aluno  nota_1  nota_2  faltas  media   situação\n",
            "0  aluno_1       7       7       1    7.0  Reprovado\n",
            "1  aluno_2       3      10       7    6.5  Reprovado\n",
            "2  aluno_3       9       4       2    6.5  Reprovado\n",
            "3  aluno_4      10       6       9    8.0   Aprovado\n",
            "\n",
            "O maior número de faltas da turma foi  9\n",
            "A média geral das notas dos alunos é  6.75\n",
            "A maior média da turma foi  8.0\n"
          ]
        }
      ],
      "source": [
        "#Desenvolva um programa que deve ler um arquivo csv intitulado “notas_alunos.csv”. O arquivo deve ter a seguinte estrutura:\n",
        "#aluno: Nome do aluno;\n",
        "#nota_1: Primeira nota;\n",
        "#nota_2: Segunda nota;\n",
        "#faltas: Número de faltas;\n",
        "#O programa lerá esse arquivo e criará duas colunas. A primeira coluna será “media”, que terá a média das duas notas do aluno. A segunda será “situacao”, com os valores: APROVADO ou REPROVADO.\n",
        "#O aluno que tiver mais de 5 faltas ou possuir média menor que sete, será reprovado. O programa deverá salvar esse novo dataframe com o nome “alunos_situacao.csv”.\n",
        "#Por fim, o programa deverá mostrar na tela:\n",
        "#- o maior número de faltas;\n",
        "#- a média geral das notas dos alunos;\n",
        "#- e a maior média.\n",
        "#Veja em anexo um exemplo do arquivo “notas_alunos.csv”.\n",
        "\n",
        "#INICIO\n",
        "\n",
        "#Importando biblioteca Pandas\n",
        "import pandas as pd\n",
        "\n",
        "df = pd.read_excel('/content/dados.xlsx') #Funcionou quanod eu coloquei read_excel. A função read.csv dá erro\n",
        "\n",
        "'''INFORMAÇÕES SOBRE A PLANILHA, pra conferir se deu certo\n",
        "df.info()\n",
        "df.head()\n",
        "df.shape'''\n",
        "\n",
        "df[\"media\"]=(df[\"nota_1\"]+df[\"nota_2\"])/2\n",
        "df.loc[df[\"media\"] >= 7, \"situação\"] = \"Aprovado\"\n",
        "df.loc[df[\"faltas\"] <= 5, \"situação\"] = \"Reprovado\"\n",
        "df.loc[df[\"media\"] < 7, \"situação\"] = \"Reprovado\"\n",
        "\n",
        "alunos_situacao = df\n",
        "print(alunos_situacao)\n",
        "print(\"\\nO maior número de faltas da turma foi \", alunos_situacao[\"faltas\"].max())\n",
        "print(\"A média geral das notas dos alunos é \", alunos_situacao[\"media\"].median())\n",
        "print(\"A maior média da turma foi \", alunos_situacao[\"media\"].max())\n",
        "\n",
        "\n",
        "\n"
      ]
    }
  ]
}