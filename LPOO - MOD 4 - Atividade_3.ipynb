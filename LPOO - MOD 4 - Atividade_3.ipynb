{
  "nbformat": 4,
  "nbformat_minor": 0,
  "metadata": {
    "colab": {
      "name": "TULIO ALVES - MOD 4 - Atividade 3",
      "provenance": [],
      "authorship_tag": "ABX9TyMLNIqRpZb2kDHFBj8Q4MqV",
      "include_colab_link": true
    },
    "kernelspec": {
      "name": "python3",
      "display_name": "Python 3"
    },
    "language_info": {
      "name": "python"
    }
  },
  "cells": [
    {
      "cell_type": "markdown",
      "metadata": {
        "id": "view-in-github",
        "colab_type": "text"
      },
      "source": [
        "<a href=\"https://colab.research.google.com/github/thoalves/SOFTEX/blob/main/TULIO_ALVES_MOD_4_Atividade_3.ipynb\" target=\"_parent\"><img src=\"https://colab.research.google.com/assets/colab-badge.svg\" alt=\"Open In Colab\"/></a>"
      ]
    },
    {
      "cell_type": "code",
      "execution_count": 17,
      "metadata": {
        "colab": {
          "base_uri": "https://localhost:8080/"
        },
        "id": "bksqN9cMaKAN",
        "outputId": "4f8dedb8-615e-420d-d4dd-6e4384c67a2a"
      },
      "outputs": [
        {
          "output_type": "stream",
          "name": "stdout",
          "text": [
            "Carro 1:  Após 5 segundos a nova velocidade do carro é 10km/h. O carro precisará de 13.0 segundos para parar completamente\n",
            "Carro 2:  Após 2 segundos a nova velocidade do carro é 20km/h. O carro precisará de 7.0 segundos para parar completamente\n",
            "Carro 3:  Após 3 segundos a nova velocidade do carro é 5km/h. O carro precisará de 15.0 segundos para parar completamente\n"
          ]
        }
      ],
      "source": [
        "# Crie uma classe e insira nela, no mínimo, dois atributos, os quais devem ter um método acessor (get)\n",
        "# e um método modificador (set) para cada. Defina um objeto para cada atributo e elabore um construtor para criar alguma regra.\n",
        "# A atividade pode ser realizada em qualquer linguagem de programação ou apenas utilizando algoritmos.\n",
        "\n",
        "#Criação da classe carro\n",
        "class Carro:\n",
        "\n",
        "  # Velocidade, Aceleração e tempo\n",
        "  def __init__(self, velocidade, aceleracao, tempo):\n",
        "    self.velocidade = velocidade\n",
        "    self.aceleracao = aceleracao\n",
        "    self.tempo = tempo\n",
        "\n",
        "  #Métodos get e set \n",
        "  def set_velocidade():\n",
        "    self.velocidade = velocidade\n",
        "    \n",
        "  def get_velocidade():\n",
        "    return self.velocidade\n",
        "\n",
        "  def set_aceleracao():\n",
        "    self.aceleracao = aceleracao\n",
        "    \n",
        "  def get_aceleracao():\n",
        "    return self.aceleracao\n",
        "\n",
        "  def set_tempo():\n",
        "    self.tempo = tempo\n",
        "    \n",
        "  def get_tempo():\n",
        "    return self.tempo\n",
        "\n",
        "  #Métodos acelerar e frear\n",
        "  def acelerar(self):\n",
        "    self.velocidade = self.velocidade + self.aceleracao*self.tempo\n",
        "    return (\"Após \" + str(self.tempo) + \" segundos a nova velocidade do carro é \" + str(self.aceleracao) + \"km/h\")\n",
        "\n",
        "  def tempo_de_parada(self):\n",
        "    self.tempo = self.velocidade/self.aceleracao\n",
        "    return (\"O carro precisará de \" + str(self.tempo) + \" segundos para parar completamente\")\n",
        "#Fim da classe\n",
        "\n",
        "#Instanciando os objetos, 3 carros diferentes\n",
        "carro_1 = Carro(80,10,5)\n",
        "carro_2 = Carro(100,20,2)\n",
        "carro_3 = Carro(60,5,3)\n",
        "\n",
        "print(\"Carro 1: \",carro_1.acelerar() + \". \" + str(carro_1.tempo_de_parada()))\n",
        "print(\"Carro 2: \",carro_2.acelerar() + \". \" + str(carro_2.tempo_de_parada()))\n",
        "print(\"Carro 3: \",carro_3.acelerar() + \". \" + str(carro_3.tempo_de_parada()))"
      ]
    }
  ]
}
