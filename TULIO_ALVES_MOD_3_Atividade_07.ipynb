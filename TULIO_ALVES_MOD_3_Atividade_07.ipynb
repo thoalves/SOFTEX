{
  "nbformat": 4,
  "nbformat_minor": 0,
  "metadata": {
    "colab": {
      "name": "TULIO ALVES - MOD 3 - Atividade 07",
      "provenance": [],
      "authorship_tag": "ABX9TyOBK1UfB7AEdzaH8xHYjxfB",
      "include_colab_link": true
    },
    "kernelspec": {
      "name": "python3",
      "display_name": "Python 3"
    },
    "language_info": {
      "name": "python"
    }
  },
  "cells": [
    {
      "cell_type": "markdown",
      "metadata": {
        "id": "view-in-github",
        "colab_type": "text"
      },
      "source": [
        "<a href=\"https://colab.research.google.com/github/thoalves/SOFTEX/blob/main/TULIO_ALVES_MOD_3_Atividade_07.ipynb\" target=\"_parent\"><img src=\"https://colab.research.google.com/assets/colab-badge.svg\" alt=\"Open In Colab\"/></a>"
      ]
    },
    {
      "cell_type": "code",
      "execution_count": 1,
      "metadata": {
        "colab": {
          "base_uri": "https://localhost:8080/"
        },
        "id": "utUGkAewQEP0",
        "outputId": "11b8da2e-2192-4f94-d67d-eac4d6ed249a"
      },
      "outputs": [
        {
          "output_type": "stream",
          "name": "stdout",
          "text": [
            "Qual o seu voto?\n",
            " Candidato X: 889\n",
            " Candidato Y: 847\n",
            " Candidato Z: 515\n",
            " Voto em branco: 0\n",
            "889\n",
            "Deseja encerrar a votação?\n",
            "n\n",
            "Qual o seu voto?\n",
            " Candidato X: 889\n",
            " Candidato Y: 847\n",
            " Candidato Z: 515\n",
            " Voto em branco: 0\n",
            "847\n",
            "Deseja encerrar a votação?\n",
            "n\n",
            "Qual o seu voto?\n",
            " Candidato X: 889\n",
            " Candidato Y: 847\n",
            " Candidato Z: 515\n",
            " Voto em branco: 0\n",
            "515\n",
            "Deseja encerrar a votação?\n",
            "nao\n",
            "Qual o seu voto?\n",
            " Candidato X: 889\n",
            " Candidato Y: 847\n",
            " Candidato Z: 515\n",
            " Voto em branco: 0\n",
            "0\n",
            "Deseja encerrar a votação?\n",
            "nao\n",
            "Qual o seu voto?\n",
            " Candidato X: 889\n",
            " Candidato Y: 847\n",
            " Candidato Z: 515\n",
            " Voto em branco: 0\n",
            "889\n",
            "Deseja encerrar a votação?\n",
            "sim\n",
            "\n",
            "CONTAGEM DE VOTOS FINALIZADA.\n",
            " O vencedor foi  Candidato X (Nº 889)  com  2  votos.\n",
            "RESUMO DA VOTAÇÃO:\n",
            "\n",
            "Candidato X (Nº 889)  :  2\n",
            "Candidato Y (Nº 847)  :  1\n",
            "Candidato Z (Nº 515)  :  1\n",
            "Brancos/Nulos  :  1\n"
          ]
        }
      ],
      "source": [
        "#Desenvolva um código que simule uma eleição com três candidatos.\n",
        "#- candidato_X => 889\n",
        "#- candidato_Y => 847\n",
        "#- candidato_Z => 515\n",
        "#- branco => 0\n",
        "# O código deve perguntar se deseja finalizar a votação depois do voto. Caso o número do voto não \n",
        "#corresponda a nenhum candidato ou seja branco, ele deve ser tratado como nulo. Se for inserido um\n",
        "#texto ao invés de número, o código deve retornar uma mensagem para votar novamente.\n",
        "# Quando a votação for finalizada, o código deverá mostrar o vencedor, aquele com o maior número de votos\n",
        "# e, também, a quantidade de votos de cada candidato, os brancos e nulos\n",
        "\n",
        "#INICIO\n",
        "fim=\"n\"\n",
        "candidatos=[\"Candidato X (Nº 889)\", \"Candidato Y (Nº 847)\", \"Candidato Z (Nº 515)\", \"Brancos/Nulos\"]\n",
        "lista=[0,0,0,0]\n",
        "\n",
        "#FUNCÃO CONTAGEM DE VOTOS\n",
        "def contagem_de_votos(num,lista):\n",
        "  if num==889: lista[0]=lista[0]+1\n",
        "  if num==847: lista[1]=lista[1]+1\n",
        "  if num==515: lista[2]=lista[2]+1\n",
        "  if num not in (889,847,515): lista[3]=lista[3]+1\n",
        "  return lista\n",
        "\n",
        "#PROGRAMA\n",
        "\n",
        "while fim in (\"nao\", \"não\", \"Nao\", \"Não\", \"NÃO\", \"N\", \"n\"): \n",
        "      try:\n",
        "        voto=int(input(\"Qual o seu voto?\\n Candidato X: 889\\n Candidato Y: 847\\n Candidato Z: 515\\n Voto em branco: 0\\n\"))\n",
        "        votos=contagem_de_votos(voto,lista)\n",
        "        maiorvoto = max(votos)\n",
        "        vencedor=candidatos[votos.index(max(votos))]\n",
        "        fim=input(\"Deseja encerrar a votação?\\n\")\n",
        "        if fim not in (\"sim\", \"Sim\", \"SIM\", \"S\", \"s\", \"nao\", \"não\", \"Nao\", \"Não\", \"NÃO\", \"N\", \"n\" ):\n",
        "            print(\"Opção inválida\")\n",
        "        else:\n",
        "            while fim in (\"nao\", \"não\", \"Nao\", \"Não\", \"NÃO\", \"N\", \"n\"): \n",
        "              voto=int(input(\"Qual o seu voto?\\n Candidato X: 889\\n Candidato Y: 847\\n Candidato Z: 515\\n Voto em branco: 0\\n\"))\n",
        "              votos=contagem_de_votos(voto,lista)\n",
        "              maiorvoto = max(votos)\n",
        "              vencedor=candidatos[votos.index(max(votos))] \n",
        "              fim=input(\"Deseja encerrar a votação?\\n\")\n",
        "        print(\"\\nCONTAGEM DE VOTOS FINALIZADA.\\n O vencedor foi \",vencedor,\" com \",maiorvoto,\" votos.\\nRESUMO DA VOTAÇÃO:\\n\")\n",
        "        for i in range(0,4):\n",
        "          print(candidatos[i],\" : \",votos[i])\n",
        "      \n",
        "      except:\n",
        "        print(\"Dado incorreto\")\n",
        "        fim=\"n\"\n",
        "    \n",
        "       \n",
        "  \n"
      ]
    }
  ]
}